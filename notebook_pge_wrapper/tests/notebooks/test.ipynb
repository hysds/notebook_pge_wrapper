{
 "cells": [
  {
   "cell_type": "code",
   "execution_count": 2,
   "metadata": {
    "tags": [
     "parameters"
    ]
   },
   "outputs": [],
   "source": [
    "from typing import List\n",
    "\n",
    "a = 100 # type: int\n",
    "b = \"jfksl\" # type: str\n",
    "c = 10.2553 # type: float\n",
    "d = [1,2,3,4,5] # type: List\n",
    "e: List[str] = ['a', 'b', 'c']\n",
    "f = \"fjskl\""
   ]
  },
  {
   "cell_type": "code",
   "execution_count": 3,
   "metadata": {},
   "outputs": [
    {
     "name": "stdout",
     "output_type": "stream",
     "text": [
      "hello world\na: 100 type:  <class 'int'>\nb: jfksl type:  <class 'str'>\nc: 10.2553 type:  <class 'float'>\nd: [1, 2, 3, 4, 5] type:  <class 'list'>\ne: ['a', 'b', 'c'] type:  <class 'list'>\nf: fjskl type:  <class 'str'>\n"
     ]
    }
   ],
   "source": [
    "print(\"hello world\")\n",
    "print(\"a:\", a, \"type: \", type(a))\n",
    "print(\"b:\", b, \"type: \", type(b))\n",
    "print(\"c:\", c, \"type: \", type(c))\n",
    "print(\"d:\", d, \"type: \", type(d))\n",
    "print(\"e:\", e, \"type: \", type(e))\n",
    "print(\"f:\", f, \"type: \", type(f))"
   ]
  },
  {
   "cell_type": "code",
   "execution_count": null,
   "metadata": {},
   "outputs": [],
   "source": []
  }
 ],
 "metadata": {
  "celltoolbar": "Tags",
  "kernelspec": {
   "display_name": "Python 3",
   "language": "python",
   "name": "python3"
  },
  "language_info": {
   "codemirror_mode": {
    "name": "ipython",
    "version": 3
   },
   "file_extension": ".py",
   "mimetype": "text/x-python",
   "name": "python",
   "nbconvert_exporter": "python",
   "pygments_lexer": "ipython3",
   "version": "3.7.6"
  }
 },
 "nbformat": 4,
 "nbformat_minor": 4
}
