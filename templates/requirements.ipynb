{
 "cells": [
  {
   "cell_type": "markdown",
   "id": "obvious-history",
   "metadata": {},
   "source": [
    "# install yum packages"
   ]
  },
  {
   "cell_type": "code",
   "execution_count": 1,
   "id": "automotive-sleeping",
   "metadata": {},
   "outputs": [],
   "source": [
    "%%bash\n",
    "# yum install <package> -y"
   ]
  },
  {
   "cell_type": "markdown",
   "id": "united-loading",
   "metadata": {},
   "source": [
    "install conda packages"
   ]
  },
  {
   "cell_type": "code",
   "execution_count": 2,
   "id": "happy-bhutan",
   "metadata": {},
   "outputs": [],
   "source": [
    "%%bash\n",
    "# sudo conda install <library> -y"
   ]
  },
  {
   "cell_type": "markdown",
   "id": "creative-webmaster",
   "metadata": {},
   "source": [
    "install python packages"
   ]
  },
  {
   "cell_type": "code",
   "execution_count": 3,
   "id": "returning-proportion",
   "metadata": {},
   "outputs": [],
   "source": [
    "%%bash\n",
    "# pip install <library>"
   ]
  }
 ],
 "metadata": {
  "kernelspec": {
   "display_name": "Python 3",
   "language": "python",
   "name": "python3"
  },
  "language_info": {
   "codemirror_mode": {
    "name": "ipython",
    "version": 3
   },
   "file_extension": ".py",
   "mimetype": "text/x-python",
   "name": "python",
   "nbconvert_exporter": "python",
   "pygments_lexer": "ipython3",
   "version": "3.7.7"
  }
 },
 "nbformat": 4,
 "nbformat_minor": 5
}
