{
 "cells": [
  {
   "cell_type": "markdown",
   "metadata": {},
   "source": [
    "# PGE Creation\n",
    "This notebook is the driver by which the *PGE_NAME_PLACEHOLDER_notebook* will be processed in order to be available as an SDS PGE. The notebook *PGE_NAME_PLACEHOLDER_submit_job* is then used to submit it to the SDS for execution.\n"
   ]
  },
  {
   "cell_type": "markdown",
   "metadata": {},
   "source": [
    "### 1. Set-up\n",
    "#### To start, we; enter the directory containing the notebook to be executed (this step assumes the repository has already been cloned locally), ensure that we are in the proper branch, then execute notebook-pge-wrapper to generate the files necessary to build and run the *papermill*'ed notebook as a PGE.\n",
    "\n",
    "#### Make note of the branch being used (e.g. *main* in this example), it will become part of the job specification name and used when submitting the job in the next notebook."
   ]
  },
  {
   "cell_type": "code",
   "execution_count": null,
   "metadata": {},
   "outputs": [],
   "source": [
    "%%bash\n",
    "# This is a temporary workaround\n",
    "pip install --quiet -e /home/jovyan/notebook_pge_wrapper/\n",
    "\n",
    "cd ~/PGE_NAME_PLACEHOLDER\n",
    "git checkout main\n",
    "notebook-pge-wrapper specs all"
   ]
  },
  {
   "cell_type": "markdown",
   "metadata": {},
   "source": [
    "### 2. Commit changes\n",
    "#### The build process retrieves source code for the PGE from the GitHub repository, so it is necessary to commit and push all changes before building/rebuilding the PGE.\n",
    "#### If `git push` fails here, push the local repository to the remote manually (using JupyterLab or the Git CLI)"
   ]
  },
  {
   "cell_type": "code",
   "execution_count": null,
   "metadata": {},
   "outputs": [],
   "source": [
    "%%bash\n",
    "cd ~/PGE_NAME_PLACEHOLDER\n",
    "git add -A\n",
    "git commit -m\"Results of notebook-pge-wrapper spec generation.\"\n",
    "git push"
   ]
  },
  {
   "cell_type": "markdown",
   "metadata": {},
   "source": [
    "### 3. Initialize the API client which will be used\n",
    "\n",
    "When prompted for the HySDS host, include the protocol, e.g. https://my-mozart.jpl.nasa.gov\n",
    "When prompted for \"HySDS cluster authenticated\", enter 'y' if the cluster requires a password to access."
   ]
  },
  {
   "cell_type": "code",
   "execution_count": null,
   "metadata": {},
   "outputs": [],
   "source": [
    "import os\n",
    "from pathlib import Path\n",
    "import otello\n",
    "if not os.path.exists(f\"{Path.home()}/.config/otello/config.yml\"):\n",
    "    otello.client.initialize()"
   ]
  },
  {
   "cell_type": "markdown",
   "metadata": {},
   "source": [
    "### 4. Specify the repository and branch to the api\n",
    "#### This creates a handle to the Jenkins build process for your repository/PGE.\n",
    "#### *Set \"account\" and \"repository_name\" to the correct value for the remote repository you created for this PGE.*"
   ]
  },
  {
   "cell_type": "code",
   "execution_count": null,
   "metadata": {},
   "outputs": [],
   "source": [
    "account = \"YOUR GIT ORG/ACCOUNT NAME HERE\"\n",
    "repository_name = \"PGE_NAME_PLACEHOLDER\"\n",
    "repository_url = f\"https://github.com/{account}/{repository_name}.git\"\n",
    "branch = \"main\"\n",
    "\n",
    "ci = otello.CI(repo=repository_url, branch=branch)"
   ]
  },
  {
   "cell_type": "markdown",
   "metadata": {},
   "source": [
    "### 5. Registering the repository/job-type with the build pipeline\n",
    "#### The job-type/PGE must be registered with the build process before it can be built.\n",
    "#### Existing registrations for the job-type/PGE are removed first, to ensure that the cached versions on active worker nodes are invalidated and replaced."
   ]
  },
  {
   "cell_type": "code",
   "execution_count": null,
   "metadata": {},
   "outputs": [],
   "source": [
    "try:\n",
    "    if ci.check_job_exists():\n",
    "        print(\"Job exists, unregistering\")\n",
    "        ci.unregister()\n",
    "except Exception as e:\n",
    "    print(\"Exception : {}, trying to register anyway\".format(e))\n",
    "\n",
    "ci.register()"
   ]
  },
  {
   "cell_type": "markdown",
   "metadata": {},
   "source": [
    "### 6. Build the PGE"
   ]
  },
  {
   "cell_type": "code",
   "execution_count": null,
   "metadata": {},
   "outputs": [],
   "source": [
    "ci.submit_build()"
   ]
  },
  {
   "cell_type": "markdown",
   "metadata": {},
   "source": [
    "### 7. Wait for the build to resolve, then check whether the build was successful or not"
   ]
  },
  {
   "cell_type": "code",
   "execution_count": null,
   "metadata": {
    "pycharm": {
     "name": "#%%\n"
    }
   },
   "outputs": [],
   "source": [
    "import time\n",
    "move_on = False\n",
    "while not move_on:\n",
    "    try:\n",
    "        ci.get_build_status()\n",
    "        move_on = True\n",
    "    except Exception as e:\n",
    "        print(\"Waiting for build to start\")\n",
    "        time.sleep(10)\n",
    "    \n",
    "build_stat = ci.get_build_status()\n",
    "print(\"Build in progress.\", end=\"\")\n",
    "\n",
    "while (build_stat['building']):\n",
    "    time.sleep(10)\n",
    "    print(\".\", end=\"\", flush=True)\n",
    "    build_stat = ci.get_build_status()\n",
    "\n",
    "if (build_stat['result'] == 'FAILURE'):\n",
    "    print(\"\\nBuild failed.\")\n",
    "else:\n",
    "    print(\"\\nBuild completed successfully\")\n",
    "\n",
    "\n"
   ]
  }
 ],
 "metadata": {
  "kernelspec": {
   "display_name": "Python 3",
   "language": "python",
   "name": "python3"
  },
  "language_info": {
   "codemirror_mode": {
    "name": "ipython",
    "version": 3
   },
   "file_extension": ".py",
   "mimetype": "text/x-python",
   "name": "python",
   "nbconvert_exporter": "python",
   "pygments_lexer": "ipython3",
   "version": "3.8.2"
  }
 },
 "nbformat": 4,
 "nbformat_minor": 4
}