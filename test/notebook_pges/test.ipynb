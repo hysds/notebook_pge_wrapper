{
 "cells": [
  {
   "cell_type": "code",
   "execution_count": 2,
   "metadata": {
    "tags": [
     "parameters"
    ]
   },
   "outputs": [],
   "source": [
    "from typing import List\n",
    "\n",
    "a = 100 # type: int\n",
    "b = \"jfksl\" # type: str\n",
    "c = 10.2553 # type: float\n",
    "d = [1,2,3,4,5] # type: List\n",
    "e: List[str] = ['a', 'b', 'c']\n",
    "f = \"fjskl\"\n",
    "g: List[str] = [\"a\", \"b\", \"c\"]\n",
    "\n",
    "# hysds specs\n",
    "hysds_time_limit = 57389\n",
    "hysds_soft_time_limit = 4738\n",
    "hysds_disk_usage = \"10GB\"\n",
    "hysds_submission_type = \"iteration\"\n",
    "hysds_required_queue = \"test_queue-worker\"\n",
    "hysds_label = \"TEST LABEL FOR HYSDS_IOS\""
   ]
  },
  {
   "cell_type": "code",
   "execution_count": 3,
   "metadata": {},
   "outputs": [
    {
     "name": "stdout",
     "output_type": "stream",
     "text": [
      "hello world\n",
      "a: 100 type:  <class 'int'>\n",
      "b: jfksl type:  <class 'str'>\n",
      "c: 10.2553 type:  <class 'float'>\n",
      "d: [1, 2, 3, 4, 5] type:  <class 'list'>\n",
      "e: ['a', 'b', 'c'] type:  <class 'list'>\n",
      "f: fjskl type:  <class 'str'>\n"
     ]
    }
   ],
   "source": [
    "print(\"hello world\")\n",
    "print(\"a:\", a, \"type: \", type(a))\n",
    "print(\"b:\", b, \"type: \", type(b))\n",
    "print(\"c:\", c, \"type: \", type(c))\n",
    "print(\"d:\", d, \"type: \", type(d))\n",
    "print(\"e:\", e, \"type: \", type(e))\n",
    "print(\"f:\", f, \"type: \", type(f))\n",
    "print(\"g:\", g, \"type: \", type(g))"
   ]
  }
 ],
 "metadata": {
  "celltoolbar": "Tags",
  "kernelspec": {
   "display_name": "Python 3",
   "language": "python",
   "name": "python3"
  },
  "language_info": {
   "codemirror_mode": {
    "name": "ipython",
    "version": 3
   },
   "file_extension": ".py",
   "mimetype": "text/x-python",
   "name": "python",
   "nbconvert_exporter": "python",
   "pygments_lexer": "ipython3",
   "version": "3.7.6"
  }
 },
 "nbformat": 4,
 "nbformat_minor": 4
}
