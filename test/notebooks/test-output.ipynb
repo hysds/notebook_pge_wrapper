{
 "cells": [
  {
   "cell_type": "code",
   "execution_count": 1,
   "metadata": {
    "execution": {
     "iopub.execute_input": "2020-11-04T22:34:18.318067Z",
     "iopub.status.busy": "2020-11-04T22:34:18.317179Z",
     "iopub.status.idle": "2020-11-04T22:34:18.320973Z",
     "shell.execute_reply": "2020-11-04T22:34:18.320372Z"
    },
    "papermill": {
     "duration": 0.025764,
     "end_time": "2020-11-04T22:34:18.321216",
     "exception": false,
     "start_time": "2020-11-04T22:34:18.295452",
     "status": "completed"
    },
    "tags": [
     "parameters"
    ]
   },
   "outputs": [],
   "source": [
    "from typing import List\n",
    "\n",
    "a = 100 # type: int\n",
    "b = \"jfksl\" # type: str\n",
    "c = 10.2553 # type: float\n",
    "d = [1,2,3,4,5] # type: List\n",
    "e: List[str] = ['a', 'b', 'c']\n",
    "f = \"fjskl\"\n",
    "g: List[str] = [\"a\", \"b\", \"c\"]\n",
    "\n",
    "# hysds specs\n",
    "hysds_time_limit = 57389\n",
    "hysds_soft_time_limit = 4738\n",
    "hysds_disk_usage = \"10GB\"\n",
    "hysds_submission_type = \"iteration\"\n",
    "hysds_required_queue = \"test_queue-worker\"\n",
    "hysds_label = \"TEST LABEL FOR HYSDS_IOS\""
   ]
  },
  {
   "cell_type": "code",
   "execution_count": 2,
   "metadata": {
    "execution": {
     "iopub.execute_input": "2020-11-04T22:34:18.355972Z",
     "iopub.status.busy": "2020-11-04T22:34:18.354832Z",
     "iopub.status.idle": "2020-11-04T22:34:18.359624Z",
     "shell.execute_reply": "2020-11-04T22:34:18.358950Z"
    },
    "papermill": {
     "duration": 0.026437,
     "end_time": "2020-11-04T22:34:18.359837",
     "exception": false,
     "start_time": "2020-11-04T22:34:18.333400",
     "status": "completed"
    },
    "tags": [
     "injected-parameters"
    ]
   },
   "outputs": [],
   "source": [
    "# Parameters\n",
    "a = 1234567\n",
    "b = \"hello this is my test value for (b)\"\n",
    "c = 123.123\n",
    "d = [9, 8, 7, 6, 5, 5, 4, 3, 2, 1]\n",
    "f = \"test value for f\"\n",
    "g = [\"c\", \"b\", \"a\"]\n"
   ]
  },
  {
   "cell_type": "code",
   "execution_count": 3,
   "metadata": {
    "execution": {
     "iopub.execute_input": "2020-11-04T22:34:18.387177Z",
     "iopub.status.busy": "2020-11-04T22:34:18.386445Z",
     "iopub.status.idle": "2020-11-04T22:34:18.389736Z",
     "shell.execute_reply": "2020-11-04T22:34:18.391839Z"
    },
    "papermill": {
     "duration": 0.02194,
     "end_time": "2020-11-04T22:34:18.392016",
     "exception": false,
     "start_time": "2020-11-04T22:34:18.370076",
     "status": "completed"
    },
    "tags": []
   },
   "outputs": [
    {
     "name": "stdout",
     "output_type": "stream",
     "text": [
      "hello world\n",
      "a: 1234567 type:  <class 'int'>\n",
      "b: hello this is my test value for (b) type:  <class 'str'>\n",
      "c: 123.123 type:  <class 'float'>\n",
      "d: [9, 8, 7, 6, 5, 5, 4, 3, 2, 1] type:  <class 'list'>\n",
      "e: ['a', 'b', 'c'] type:  <class 'list'>\n",
      "f: test value for f type:  <class 'str'>\n",
      "g: ['c', 'b', 'a'] type:  <class 'list'>\n"
     ]
    }
   ],
   "source": [
    "print(\"hello world\")\n",
    "print(\"a:\", a, \"type: \", type(a))\n",
    "print(\"b:\", b, \"type: \", type(b))\n",
    "print(\"c:\", c, \"type: \", type(c))\n",
    "print(\"d:\", d, \"type: \", type(d))\n",
    "print(\"e:\", e, \"type: \", type(e))\n",
    "print(\"f:\", f, \"type: \", type(f))\n",
    "print(\"g:\", g, \"type: \", type(g))"
   ]
  }
 ],
 "metadata": {
  "celltoolbar": "Tags",
  "kernelspec": {
   "display_name": "Python 3",
   "language": "python",
   "name": "python3"
  },
  "language_info": {
   "codemirror_mode": {
    "name": "ipython",
    "version": 3
   },
   "file_extension": ".py",
   "mimetype": "text/x-python",
   "name": "python",
   "nbconvert_exporter": "python",
   "pygments_lexer": "ipython3",
   "version": "3.7.6"
  },
  "papermill": {
   "default_parameters": {},
   "duration": 1.34555,
   "end_time": "2020-11-04T22:34:18.715152",
   "environment_variables": {},
   "exception": null,
   "input_path": "/home/jovyan/notebook_pge_wrapper/test/notebooks/test.ipynb",
   "output_path": "/home/jovyan/notebook_pge_wrapper/test/notebooks/test-output.ipynb",
   "parameters": {
    "a": 1234567,
    "b": "hello this is my test value for (b)",
    "c": 123.123,
    "d": [
     9,
     8,
     7,
     6,
     5,
     5,
     4,
     3,
     2,
     1
    ],
    "f": "test value for f",
    "g": [
     "c",
     "b",
     "a"
    ]
   },
   "start_time": "2020-11-04T22:34:17.369602",
   "version": "2.2.2"
  }
 },
 "nbformat": 4,
 "nbformat_minor": 4
}